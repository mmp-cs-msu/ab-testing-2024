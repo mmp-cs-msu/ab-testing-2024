{
  "nbformat": 4,
  "nbformat_minor": 0,
  "metadata": {
    "colab": {
      "provenance": []
    },
    "kernelspec": {
      "name": "python3",
      "display_name": "Python 3"
    },
    "language_info": {
      "name": "python"
    }
  },
  "cells": [
    {
      "cell_type": "markdown",
      "source": [
        "## Домашнее задание по теме \"Последовательное тестирование\"\n",
        "\n",
        "В этом домашнем задании ты применишь инструменты последовательного тестирования для анализа результатов A/B тестирования. Данный датасет уже использовался на семинаре, но на всякий случай продублируем его описание:\n",
        "\n",
        "*В данном исследовании необходимо проанализировать результаты A/B-теста, проведенного онлайн-магазином. Компания разработала новый дизайн веб-страниц, чтобы попытаться увеличить количество пользователей, которые «конвертируются», то есть количество пользователей, которые решают заплатить за продукт компании. Ваша цель -- проанализировать представленные данные, чтобы помочь компании понять, следует ли им внедрять эту новую страницу, сохранять старую страницу или, возможно, проводить эксперимент дольше, чтобы принять решение.*\n",
        "\n",
        "После семинара (внезапно!) оказалось, что о каждом пользователе можно найти дополнительную информацию - страна, в которой он находится! Поскольку столь важную информацию не хочется оставлять без внимания, придется использовать её в домашней работе.\n",
        "\n",
        "В этом домашнем задании нам понадобятся два файла:\n",
        "\n",
        "__ab_data.csv__ - файл, содержащий информацию о конверсии пользователей (с этим датасетом мы работали на семинаре).  \n",
        "__countries.csv__ - файл, содержащий информацию о стране.\n",
        "\n",
        "Сначала прочитаем эти файлы и создадим один датафрейм:\n"
      ],
      "metadata": {
        "id": "nOXmFx0dIOnl"
      }
    },
    {
      "cell_type": "code",
      "source": [
        "import pandas as pd\n",
        "\n",
        "#df = pd.read_csv('ab_data.csv').sort_values('timestamp')\n",
        "\n",
        "df = pd.read_csv('https://drive.google.com/uc?export=download&id=1bLhznTSMaIcDFF-DQ7xUNofYfS-duwn7').sort_values('timestamp')\n",
        "df = df.drop_duplicates(subset='user_id', keep=False) # удалим дубликаты по user_id\n",
        "\n",
        "#cities = pd.read_csv('cities.csv')\n",
        "cities = pd.read_csv('https://drive.google.com/uc?export=download&id=1bCFK7r-XWqBx_Dem7hLqTMIfskCsrXho')\n",
        "\n",
        "df = df.merge(cities, on='user_id', how='inner') # добавим страны\n",
        "df.head(10)"
      ],
      "metadata": {
        "colab": {
          "base_uri": "https://localhost:8080/",
          "height": 363
        },
        "id": "NIY6g6o2Ga29",
        "outputId": "382a2983-2b81-436c-a2ef-d9770eef283a"
      },
      "execution_count": null,
      "outputs": [
        {
          "output_type": "execute_result",
          "data": {
            "text/plain": [
              "   user_id                   timestamp      group landing_page  converted  \\\n",
              "0   922696  2017-01-02 13:42:05.378582  treatment     new_page          0   \n",
              "1   781507  2017-01-02 13:42:15.234051    control     old_page          0   \n",
              "2   737319  2017-01-02 13:42:21.786186    control     old_page          0   \n",
              "3   818377  2017-01-02 13:42:26.640581  treatment     new_page          0   \n",
              "4   725857  2017-01-02 13:42:27.851110  treatment     new_page          0   \n",
              "5   762651  2017-01-02 13:42:28.522322  treatment     new_page          0   \n",
              "6   722516  2017-01-02 13:42:34.033708  treatment     new_page          0   \n",
              "7   688937  2017-01-02 13:42:41.406986  treatment     new_page          0   \n",
              "8   781125  2017-01-02 13:42:45.090432  treatment     new_page          0   \n",
              "9   799109  2017-01-02 13:42:45.219901    control     old_page          0   \n",
              "\n",
              "               city  \n",
              "0            Moscow  \n",
              "1  Saint-Petersburg  \n",
              "2            Moscow  \n",
              "3            Moscow  \n",
              "4            Moscow  \n",
              "5            Moscow  \n",
              "6            Moscow  \n",
              "7            Moscow  \n",
              "8            Moscow  \n",
              "9            Moscow  "
            ],
            "text/html": [
              "\n",
              "  <div id=\"df-59ec3b8c-0efe-4b70-b771-5cfd9371efc2\" class=\"colab-df-container\">\n",
              "    <div>\n",
              "<style scoped>\n",
              "    .dataframe tbody tr th:only-of-type {\n",
              "        vertical-align: middle;\n",
              "    }\n",
              "\n",
              "    .dataframe tbody tr th {\n",
              "        vertical-align: top;\n",
              "    }\n",
              "\n",
              "    .dataframe thead th {\n",
              "        text-align: right;\n",
              "    }\n",
              "</style>\n",
              "<table border=\"1\" class=\"dataframe\">\n",
              "  <thead>\n",
              "    <tr style=\"text-align: right;\">\n",
              "      <th></th>\n",
              "      <th>user_id</th>\n",
              "      <th>timestamp</th>\n",
              "      <th>group</th>\n",
              "      <th>landing_page</th>\n",
              "      <th>converted</th>\n",
              "      <th>city</th>\n",
              "    </tr>\n",
              "  </thead>\n",
              "  <tbody>\n",
              "    <tr>\n",
              "      <th>0</th>\n",
              "      <td>922696</td>\n",
              "      <td>2017-01-02 13:42:05.378582</td>\n",
              "      <td>treatment</td>\n",
              "      <td>new_page</td>\n",
              "      <td>0</td>\n",
              "      <td>Moscow</td>\n",
              "    </tr>\n",
              "    <tr>\n",
              "      <th>1</th>\n",
              "      <td>781507</td>\n",
              "      <td>2017-01-02 13:42:15.234051</td>\n",
              "      <td>control</td>\n",
              "      <td>old_page</td>\n",
              "      <td>0</td>\n",
              "      <td>Saint-Petersburg</td>\n",
              "    </tr>\n",
              "    <tr>\n",
              "      <th>2</th>\n",
              "      <td>737319</td>\n",
              "      <td>2017-01-02 13:42:21.786186</td>\n",
              "      <td>control</td>\n",
              "      <td>old_page</td>\n",
              "      <td>0</td>\n",
              "      <td>Moscow</td>\n",
              "    </tr>\n",
              "    <tr>\n",
              "      <th>3</th>\n",
              "      <td>818377</td>\n",
              "      <td>2017-01-02 13:42:26.640581</td>\n",
              "      <td>treatment</td>\n",
              "      <td>new_page</td>\n",
              "      <td>0</td>\n",
              "      <td>Moscow</td>\n",
              "    </tr>\n",
              "    <tr>\n",
              "      <th>4</th>\n",
              "      <td>725857</td>\n",
              "      <td>2017-01-02 13:42:27.851110</td>\n",
              "      <td>treatment</td>\n",
              "      <td>new_page</td>\n",
              "      <td>0</td>\n",
              "      <td>Moscow</td>\n",
              "    </tr>\n",
              "    <tr>\n",
              "      <th>5</th>\n",
              "      <td>762651</td>\n",
              "      <td>2017-01-02 13:42:28.522322</td>\n",
              "      <td>treatment</td>\n",
              "      <td>new_page</td>\n",
              "      <td>0</td>\n",
              "      <td>Moscow</td>\n",
              "    </tr>\n",
              "    <tr>\n",
              "      <th>6</th>\n",
              "      <td>722516</td>\n",
              "      <td>2017-01-02 13:42:34.033708</td>\n",
              "      <td>treatment</td>\n",
              "      <td>new_page</td>\n",
              "      <td>0</td>\n",
              "      <td>Moscow</td>\n",
              "    </tr>\n",
              "    <tr>\n",
              "      <th>7</th>\n",
              "      <td>688937</td>\n",
              "      <td>2017-01-02 13:42:41.406986</td>\n",
              "      <td>treatment</td>\n",
              "      <td>new_page</td>\n",
              "      <td>0</td>\n",
              "      <td>Moscow</td>\n",
              "    </tr>\n",
              "    <tr>\n",
              "      <th>8</th>\n",
              "      <td>781125</td>\n",
              "      <td>2017-01-02 13:42:45.090432</td>\n",
              "      <td>treatment</td>\n",
              "      <td>new_page</td>\n",
              "      <td>0</td>\n",
              "      <td>Moscow</td>\n",
              "    </tr>\n",
              "    <tr>\n",
              "      <th>9</th>\n",
              "      <td>799109</td>\n",
              "      <td>2017-01-02 13:42:45.219901</td>\n",
              "      <td>control</td>\n",
              "      <td>old_page</td>\n",
              "      <td>0</td>\n",
              "      <td>Moscow</td>\n",
              "    </tr>\n",
              "  </tbody>\n",
              "</table>\n",
              "</div>\n",
              "    <div class=\"colab-df-buttons\">\n",
              "\n",
              "  <div class=\"colab-df-container\">\n",
              "    <button class=\"colab-df-convert\" onclick=\"convertToInteractive('df-59ec3b8c-0efe-4b70-b771-5cfd9371efc2')\"\n",
              "            title=\"Convert this dataframe to an interactive table.\"\n",
              "            style=\"display:none;\">\n",
              "\n",
              "  <svg xmlns=\"http://www.w3.org/2000/svg\" height=\"24px\" viewBox=\"0 -960 960 960\">\n",
              "    <path d=\"M120-120v-720h720v720H120Zm60-500h600v-160H180v160Zm220 220h160v-160H400v160Zm0 220h160v-160H400v160ZM180-400h160v-160H180v160Zm440 0h160v-160H620v160ZM180-180h160v-160H180v160Zm440 0h160v-160H620v160Z\"/>\n",
              "  </svg>\n",
              "    </button>\n",
              "\n",
              "  <style>\n",
              "    .colab-df-container {\n",
              "      display:flex;\n",
              "      gap: 12px;\n",
              "    }\n",
              "\n",
              "    .colab-df-convert {\n",
              "      background-color: #E8F0FE;\n",
              "      border: none;\n",
              "      border-radius: 50%;\n",
              "      cursor: pointer;\n",
              "      display: none;\n",
              "      fill: #1967D2;\n",
              "      height: 32px;\n",
              "      padding: 0 0 0 0;\n",
              "      width: 32px;\n",
              "    }\n",
              "\n",
              "    .colab-df-convert:hover {\n",
              "      background-color: #E2EBFA;\n",
              "      box-shadow: 0px 1px 2px rgba(60, 64, 67, 0.3), 0px 1px 3px 1px rgba(60, 64, 67, 0.15);\n",
              "      fill: #174EA6;\n",
              "    }\n",
              "\n",
              "    .colab-df-buttons div {\n",
              "      margin-bottom: 4px;\n",
              "    }\n",
              "\n",
              "    [theme=dark] .colab-df-convert {\n",
              "      background-color: #3B4455;\n",
              "      fill: #D2E3FC;\n",
              "    }\n",
              "\n",
              "    [theme=dark] .colab-df-convert:hover {\n",
              "      background-color: #434B5C;\n",
              "      box-shadow: 0px 1px 3px 1px rgba(0, 0, 0, 0.15);\n",
              "      filter: drop-shadow(0px 1px 2px rgba(0, 0, 0, 0.3));\n",
              "      fill: #FFFFFF;\n",
              "    }\n",
              "  </style>\n",
              "\n",
              "    <script>\n",
              "      const buttonEl =\n",
              "        document.querySelector('#df-59ec3b8c-0efe-4b70-b771-5cfd9371efc2 button.colab-df-convert');\n",
              "      buttonEl.style.display =\n",
              "        google.colab.kernel.accessAllowed ? 'block' : 'none';\n",
              "\n",
              "      async function convertToInteractive(key) {\n",
              "        const element = document.querySelector('#df-59ec3b8c-0efe-4b70-b771-5cfd9371efc2');\n",
              "        const dataTable =\n",
              "          await google.colab.kernel.invokeFunction('convertToInteractive',\n",
              "                                                    [key], {});\n",
              "        if (!dataTable) return;\n",
              "\n",
              "        const docLinkHtml = 'Like what you see? Visit the ' +\n",
              "          '<a target=\"_blank\" href=https://colab.research.google.com/notebooks/data_table.ipynb>data table notebook</a>'\n",
              "          + ' to learn more about interactive tables.';\n",
              "        element.innerHTML = '';\n",
              "        dataTable['output_type'] = 'display_data';\n",
              "        await google.colab.output.renderOutput(dataTable, element);\n",
              "        const docLink = document.createElement('div');\n",
              "        docLink.innerHTML = docLinkHtml;\n",
              "        element.appendChild(docLink);\n",
              "      }\n",
              "    </script>\n",
              "  </div>\n",
              "\n",
              "\n",
              "<div id=\"df-8a3af97b-06ff-4be0-bea6-35c7ea66457e\">\n",
              "  <button class=\"colab-df-quickchart\" onclick=\"quickchart('df-8a3af97b-06ff-4be0-bea6-35c7ea66457e')\"\n",
              "            title=\"Suggest charts\"\n",
              "            style=\"display:none;\">\n",
              "\n",
              "<svg xmlns=\"http://www.w3.org/2000/svg\" height=\"24px\"viewBox=\"0 0 24 24\"\n",
              "     width=\"24px\">\n",
              "    <g>\n",
              "        <path d=\"M19 3H5c-1.1 0-2 .9-2 2v14c0 1.1.9 2 2 2h14c1.1 0 2-.9 2-2V5c0-1.1-.9-2-2-2zM9 17H7v-7h2v7zm4 0h-2V7h2v10zm4 0h-2v-4h2v4z\"/>\n",
              "    </g>\n",
              "</svg>\n",
              "  </button>\n",
              "\n",
              "<style>\n",
              "  .colab-df-quickchart {\n",
              "      --bg-color: #E8F0FE;\n",
              "      --fill-color: #1967D2;\n",
              "      --hover-bg-color: #E2EBFA;\n",
              "      --hover-fill-color: #174EA6;\n",
              "      --disabled-fill-color: #AAA;\n",
              "      --disabled-bg-color: #DDD;\n",
              "  }\n",
              "\n",
              "  [theme=dark] .colab-df-quickchart {\n",
              "      --bg-color: #3B4455;\n",
              "      --fill-color: #D2E3FC;\n",
              "      --hover-bg-color: #434B5C;\n",
              "      --hover-fill-color: #FFFFFF;\n",
              "      --disabled-bg-color: #3B4455;\n",
              "      --disabled-fill-color: #666;\n",
              "  }\n",
              "\n",
              "  .colab-df-quickchart {\n",
              "    background-color: var(--bg-color);\n",
              "    border: none;\n",
              "    border-radius: 50%;\n",
              "    cursor: pointer;\n",
              "    display: none;\n",
              "    fill: var(--fill-color);\n",
              "    height: 32px;\n",
              "    padding: 0;\n",
              "    width: 32px;\n",
              "  }\n",
              "\n",
              "  .colab-df-quickchart:hover {\n",
              "    background-color: var(--hover-bg-color);\n",
              "    box-shadow: 0 1px 2px rgba(60, 64, 67, 0.3), 0 1px 3px 1px rgba(60, 64, 67, 0.15);\n",
              "    fill: var(--button-hover-fill-color);\n",
              "  }\n",
              "\n",
              "  .colab-df-quickchart-complete:disabled,\n",
              "  .colab-df-quickchart-complete:disabled:hover {\n",
              "    background-color: var(--disabled-bg-color);\n",
              "    fill: var(--disabled-fill-color);\n",
              "    box-shadow: none;\n",
              "  }\n",
              "\n",
              "  .colab-df-spinner {\n",
              "    border: 2px solid var(--fill-color);\n",
              "    border-color: transparent;\n",
              "    border-bottom-color: var(--fill-color);\n",
              "    animation:\n",
              "      spin 1s steps(1) infinite;\n",
              "  }\n",
              "\n",
              "  @keyframes spin {\n",
              "    0% {\n",
              "      border-color: transparent;\n",
              "      border-bottom-color: var(--fill-color);\n",
              "      border-left-color: var(--fill-color);\n",
              "    }\n",
              "    20% {\n",
              "      border-color: transparent;\n",
              "      border-left-color: var(--fill-color);\n",
              "      border-top-color: var(--fill-color);\n",
              "    }\n",
              "    30% {\n",
              "      border-color: transparent;\n",
              "      border-left-color: var(--fill-color);\n",
              "      border-top-color: var(--fill-color);\n",
              "      border-right-color: var(--fill-color);\n",
              "    }\n",
              "    40% {\n",
              "      border-color: transparent;\n",
              "      border-right-color: var(--fill-color);\n",
              "      border-top-color: var(--fill-color);\n",
              "    }\n",
              "    60% {\n",
              "      border-color: transparent;\n",
              "      border-right-color: var(--fill-color);\n",
              "    }\n",
              "    80% {\n",
              "      border-color: transparent;\n",
              "      border-right-color: var(--fill-color);\n",
              "      border-bottom-color: var(--fill-color);\n",
              "    }\n",
              "    90% {\n",
              "      border-color: transparent;\n",
              "      border-bottom-color: var(--fill-color);\n",
              "    }\n",
              "  }\n",
              "</style>\n",
              "\n",
              "  <script>\n",
              "    async function quickchart(key) {\n",
              "      const quickchartButtonEl =\n",
              "        document.querySelector('#' + key + ' button');\n",
              "      quickchartButtonEl.disabled = true;  // To prevent multiple clicks.\n",
              "      quickchartButtonEl.classList.add('colab-df-spinner');\n",
              "      try {\n",
              "        const charts = await google.colab.kernel.invokeFunction(\n",
              "            'suggestCharts', [key], {});\n",
              "      } catch (error) {\n",
              "        console.error('Error during call to suggestCharts:', error);\n",
              "      }\n",
              "      quickchartButtonEl.classList.remove('colab-df-spinner');\n",
              "      quickchartButtonEl.classList.add('colab-df-quickchart-complete');\n",
              "    }\n",
              "    (() => {\n",
              "      let quickchartButtonEl =\n",
              "        document.querySelector('#df-8a3af97b-06ff-4be0-bea6-35c7ea66457e button');\n",
              "      quickchartButtonEl.style.display =\n",
              "        google.colab.kernel.accessAllowed ? 'block' : 'none';\n",
              "    })();\n",
              "  </script>\n",
              "</div>\n",
              "    </div>\n",
              "  </div>\n"
            ],
            "application/vnd.google.colaboratory.intrinsic+json": {
              "type": "dataframe",
              "variable_name": "df"
            }
          },
          "metadata": {},
          "execution_count": 1
        }
      ]
    },
    {
      "cell_type": "markdown",
      "source": [
        "Напомним, что в данном датасете есть следующие поля:\n",
        "\n",
        "**user_id** -- уникальный id пользователя (каждый пользователь встречается лишь один раз)  \n",
        "**timestamp** -- время, когда пользователь открыл страницу  \n",
        "**group** -- группа, к которой относится пользователь  \n",
        "**landing_page** -- какой тип страницы был показан пользователю (контрольным пользователям всегда показывается старая страница, тестовым - новая)  \n",
        "**converted** -- информация о том, произошла ли конверсия пользователя  \n",
        "**city** -- город пользователя"
      ],
      "metadata": {
        "id": "JVJ5fPW9JZ-x"
      }
    },
    {
      "cell_type": "code",
      "source": [
        "df['city'].value_counts()"
      ],
      "metadata": {
        "colab": {
          "base_uri": "https://localhost:8080/",
          "height": 210
        },
        "id": "KNCumDc_GpTQ",
        "outputId": "c222ae0c-6878-4f67-831b-93b03af46ed2"
      },
      "execution_count": null,
      "outputs": [
        {
          "output_type": "execute_result",
          "data": {
            "text/plain": [
              "city\n",
              "Moscow              200875\n",
              "Saint-Petersburg     71513\n",
              "Novosibirsk          14303\n",
              "Name: count, dtype: int64"
            ],
            "text/html": [
              "<div>\n",
              "<style scoped>\n",
              "    .dataframe tbody tr th:only-of-type {\n",
              "        vertical-align: middle;\n",
              "    }\n",
              "\n",
              "    .dataframe tbody tr th {\n",
              "        vertical-align: top;\n",
              "    }\n",
              "\n",
              "    .dataframe thead th {\n",
              "        text-align: right;\n",
              "    }\n",
              "</style>\n",
              "<table border=\"1\" class=\"dataframe\">\n",
              "  <thead>\n",
              "    <tr style=\"text-align: right;\">\n",
              "      <th></th>\n",
              "      <th>count</th>\n",
              "    </tr>\n",
              "    <tr>\n",
              "      <th>city</th>\n",
              "      <th></th>\n",
              "    </tr>\n",
              "  </thead>\n",
              "  <tbody>\n",
              "    <tr>\n",
              "      <th>Moscow</th>\n",
              "      <td>200875</td>\n",
              "    </tr>\n",
              "    <tr>\n",
              "      <th>Saint-Petersburg</th>\n",
              "      <td>71513</td>\n",
              "    </tr>\n",
              "    <tr>\n",
              "      <th>Novosibirsk</th>\n",
              "      <td>14303</td>\n",
              "    </tr>\n",
              "  </tbody>\n",
              "</table>\n",
              "</div><br><label><b>dtype:</b> int64</label>"
            ]
          },
          "metadata": {},
          "execution_count": 2
        }
      ]
    },
    {
      "cell_type": "markdown",
      "source": [
        "# Задание 1. (2.5 балла)\n",
        "\n",
        "Для пользователей контрольной группы каждого города по отдельности при помощи классического SPRT города проверь следующие гипотезы:\n",
        "- H0: уровень конверсии составляет 10%.  \n",
        "- H1: уровень конверсии составляет 12%.  \n",
        "\n",
        "Построй графики значения статистики lambda на каждом шаге. Возьми alpha = 0.1 и beta = 0.1 Проанализируй данные графики и сделайте выводы по каждому из городов."
      ],
      "metadata": {
        "id": "xxgRTU9hINzz"
      }
    },
    {
      "cell_type": "code",
      "source": [
        "## your awesome code goes here"
      ],
      "metadata": {
        "id": "uCK7HR-fGpWf"
      },
      "execution_count": null,
      "outputs": []
    },
    {
      "cell_type": "markdown",
      "source": [
        "**Выводы по графикам:**"
      ],
      "metadata": {
        "id": "6mVDYtN0RrPt"
      }
    },
    {
      "cell_type": "markdown",
      "source": [
        "# Задание 2.  (2.5 балла)\n",
        "\n",
        "При помощи mSPRT, сравни уровни конверсий пользователей контрольной группы в разных городах. Возьми tau_sq = 0.001 и alpha = 0.05. построй графики p-value. Сделай выводы."
      ],
      "metadata": {
        "id": "H9cjQ-c0QHZI"
      }
    },
    {
      "cell_type": "code",
      "source": [
        "## your great code goes here"
      ],
      "metadata": {
        "id": "7Tm2nM9bGpaA"
      },
      "execution_count": null,
      "outputs": []
    },
    {
      "cell_type": "markdown",
      "source": [
        "**Выводы по графикам:**"
      ],
      "metadata": {
        "id": "h13gDhrIR0dQ"
      }
    },
    {
      "cell_type": "markdown",
      "source": [
        "# Задание 3.  (2.5 балла)\n",
        "\n",
        "При помощи mSPRT, оцени влияние нового дизайна на пользователей в разных городах. Возьми tau_sq = 0.001 и alpha = 0.05. Построй графики p-value. Сделай выводы."
      ],
      "metadata": {
        "id": "i73pci7_R8AG"
      }
    },
    {
      "cell_type": "code",
      "source": [
        "## your perfect code goes here"
      ],
      "metadata": {
        "id": "zehT0UvLSHXL"
      },
      "execution_count": null,
      "outputs": []
    },
    {
      "cell_type": "markdown",
      "source": [
        "**Выводы по графикам:**"
      ],
      "metadata": {
        "id": "ThklYM4GSM0f"
      }
    },
    {
      "cell_type": "markdown",
      "source": [
        "# Задание 4  (2.5 балла)\n",
        "\n",
        "Примените метод из блогпоста Эвана Миллера для оценки конверсии в каждом из городов. Возьмите MDE = 25%, alpha = 5% и beta = 15%. Для данных значений найдите необходимое число успехов и максимальное число конверсий, постройте графики по каждому из городов и сделайте выводы."
      ],
      "metadata": {
        "id": "OMcb3xrgAZZc"
      }
    },
    {
      "cell_type": "code",
      "source": [
        "## your"
      ],
      "metadata": {
        "id": "wtD2vLsSBK3S"
      },
      "execution_count": null,
      "outputs": []
    }
  ]
}